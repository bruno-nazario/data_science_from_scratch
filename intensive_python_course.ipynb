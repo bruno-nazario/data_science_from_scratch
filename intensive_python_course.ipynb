{
 "cells": [
  {
   "cell_type": "markdown",
   "metadata": {},
   "source": [
    "### Principios de design do Python"
   ]
  },
  {
   "cell_type": "code",
   "execution_count": 1,
   "metadata": {},
   "outputs": [
    {
     "name": "stdout",
     "output_type": "stream",
     "text": [
      "The Zen of Python, by Tim Peters\n",
      "\n",
      "Beautiful is better than ugly.\n",
      "Explicit is better than implicit.\n",
      "Simple is better than complex.\n",
      "Complex is better than complicated.\n",
      "Flat is better than nested.\n",
      "Sparse is better than dense.\n",
      "Readability counts.\n",
      "Special cases aren't special enough to break the rules.\n",
      "Although practicality beats purity.\n",
      "Errors should never pass silently.\n",
      "Unless explicitly silenced.\n",
      "In the face of ambiguity, refuse the temptation to guess.\n",
      "There should be one-- and preferably only one --obvious way to do it.\n",
      "Although that way may not be obvious at first unless you're Dutch.\n",
      "Now is better than never.\n",
      "Although never is often better than *right* now.\n",
      "If the implementation is hard to explain, it's a bad idea.\n",
      "If the implementation is easy to explain, it may be a good idea.\n",
      "Namespaces are one honking great idea -- let's do more of those!\n"
     ]
    }
   ],
   "source": [
    "import this"
   ]
  },
  {
   "cell_type": "markdown",
   "metadata": {},
   "source": [
    "### Virtual Enviroment"
   ]
  },
  {
   "cell_type": "code",
   "execution_count": null,
   "metadata": {},
   "outputs": [],
   "source": [
    "# No anaconda\n",
    "conda create -n nome python = 3.6\n",
    "\n",
    "# Para ativar\n",
    "source activate\n",
    "\n",
    "# Para desativar\n",
    "source deactivate"
   ]
  },
  {
   "cell_type": "markdown",
   "metadata": {},
   "source": [
    "### Tips"
   ]
  },
  {
   "cell_type": "markdown",
   "metadata": {},
   "source": [
    "* Sempre use espaço, nunca tabulação em python\n",
    "* Pode usar \\ para continuar um comando na linha de baixo \n",
    "* Use funcão def para atribuir a variavel\n",
    "* Barra invertida \\ codifica caractere especial em python\n",
    "* Para criar strings brutas, use r\"\". r\"\\t\""
   ]
  },
  {
   "cell_type": "markdown",
   "metadata": {},
   "source": [
    "### Lists"
   ]
  },
  {
   "cell_type": "code",
   "execution_count": null,
   "metadata": {},
   "outputs": [],
   "source": [
    "x = [0, 1, 2, 3, 4, 5, 6, 7, 8, 9]\n",
    "\n",
    "# Podemos fatiar as listas\n",
    "first_three = x[:3]\n",
    "three_to_end = [3:]\n",
    "one_to_four = [1:5]\n",
    "last_three = [-3:]\n",
    "without_first_and_last = x[1:-1]\n",
    "copy_of_x = x[:]\n",
    "\n",
    "# Podemos passar um terceiro argumento para ser o strider\n",
    "every_third[::3] # 0, 3, 6, 9\n",
    "five_to_three = x[5:2:-1] # 5, 4, 3\n",
    "\n",
    "# Podemos verificar associação numa lista \n",
    "1 in [1, 2, 3] # True \n",
    "0 in [1, 2, 3] # False\n",
    "\n",
    "# Concatenar listas\n",
    "x = [1, 2, 3]\n",
    "x.extend([4, 5, 6]) # Agora x é [1, 2, 3, 4, 5, 6]\n",
    "\n",
    "# Acrescentar itens na lista\n",
    "x.append[0]\n",
    "\n",
    "# Para descompactar a lista, só passar para varaiveis de mesmo tamanho \n",
    "x, y = [1, 2]\n",
    "\n",
    "# Possar organizar uma lista \n",
    "x = [2, 3, 1]\n",
    "y = x.sorted()  # [1, 2, 3]\n",
    "z = x.sorted(reverse = True) # [3, 2, 1]"
   ]
  },
  {
   "cell_type": "markdown",
   "metadata": {},
   "source": [
    "### Dicionarios"
   ]
  },
  {
   "cell_type": "code",
   "execution_count": null,
   "metadata": {},
   "outputs": [],
   "source": [
    "# Inicializacao de dicionario\n",
    "empty_dict = {} # Pythonic\n",
    "empty_dict2 = dict{}\n",
    "grades = {'Joel' : 80, 'Tim' : 95}\n",
    "\n",
    "# Procurar uma chave\n",
    "joels_grade = grades['Joel']\n",
    "\n",
    "# Verificar a existencia de uma chave\n",
    "joel_has_grades = 'Joel' in grades # True\n",
    "naiane_has_grades = 'Naiane' in grades # True\n",
    "\n",
    "# Metodo get\n",
    "# Se nao tiver a chave que vc procura, ele retorna um valor padrão\n",
    "joels_grade = grades.get('Joel' , 0)\n",
    "\n",
    "# Atribuir chave-valor \n",
    "grades['Tim'] = 99 # Substitui o valor anterior \n",
    "grades['Kate'] = 100 # Adiciona uma nova entrada no dicionario\n",
    "\n",
    "# Mamipular um dicionario \n",
    "x = {\n",
    "    'user' : 'joel',\n",
    "    'text' : 'nice!', \n",
    "    'retweet_count' : 100, \n",
    "    'hashtags' : ['#laranja', '#uva', '#abacaxi']\n",
    "}\n",
    "\n",
    "x_keys = x.keys() # Iteravel para as chaves\n",
    "x_values = x.values() # Iteravel para os valores\n",
    "x_items = x.items() # Iteravel para as tuplas (chave, valor)\n",
    "\n",
    "'user' in x_keys # True, mas não pythonic\n",
    "'user' in x # forma pythonic de verificar as chaves\n",
    "'joel' in x_values # unica forma de verificar os valores"
   ]
  },
  {
   "cell_type": "markdown",
   "metadata": {},
   "source": [
    "### Defaultdict"
   ]
  },
  {
   "cell_type": "code",
   "execution_count": null,
   "metadata": {},
   "outputs": [],
   "source": [
    "# Possivel forma para contar as palavras de um documento\n",
    "word_counts = {}\n",
    "for word in document:\n",
    "    if word in word_counts:\n",
    "        word_counts[word] += 1\n",
    "    else:\n",
    "        word_counts[word] = 1\n",
    "\n",
    "\n",
    "# Outra forma possivel de fazer \n",
    "word_counts = {}\n",
    "for word in document:\n",
    "    try:\n",
    "        word_counts[word] += 1\n",
    "    except KeyError:\n",
    "        word_counts[word] = 1\n",
    "\n",
    "# Outra forma usando o get\n",
    "word_counts = {}\n",
    "for word in document:\n",
    "    previous_count = word_counts.get(word, 0)\n",
    "    word_counts[word] = previous_count + 1\n",
    "\n",
    "# Para resolver esse problema de forma mais Pythonic, usamos Defaultdict\n",
    "# Quando adicionamos uma chave qu enão está contida nele, ele adiciona um calore para ela usanda a funcao de argumento zero que indicamos ao cria-lo.\n",
    "\n",
    "from collections import defaultdict\n",
    "\n",
    "word_counts = defaultdict(int) # int() produz 0 \n",
    "for word in document:\n",
    "    word_counts[word] += 1\n",
    "\n",
    "# Defaultdict também funciona com  list, dict e outras funcoes \n",
    "# Isso sera util quando usarmos dicionario para coletar os resultados de algumas chaves sem verificar se ela existe a cada operacao\n",
    "dd_list = defaultdict(list) # produz lista vazia\n",
    "dd_dict = defaultdoct(dict) # produz um dicionario vazio\n"
   ]
  },
  {
   "cell_type": "markdown",
   "metadata": {},
   "source": [
    "### Contadores"
   ]
  },
  {
   "cell_type": "code",
   "execution_count": null,
   "metadata": {},
   "outputs": [],
   "source": [
    "# Counter covnerete uma sequenci ade valores em algo parecido com o objeto defaultdct  mapenado as chaves correspondesntes as contagens\n",
    "\n",
    "from collections import Counterc = Counter([0, 1, 2, 0]) # c é : {0:2, 1:1, 2:1}\n",
    "\n",
    "# Isso aqui resolve facilmente o problema do word_counts\n",
    "word_counts = Counter(document)\n",
    "\n",
    "# Usando Counter para ver o mais comum \n",
    "for word, count in word_count.most_commum(10):\n",
    "    print(word, count)"
   ]
  },
  {
   "cell_type": "markdown",
   "metadata": {},
   "source": [
    "### Conjutos (Set)"
   ]
  },
  {
   "cell_type": "code",
   "execution_count": null,
   "metadata": {},
   "outputs": [],
   "source": [
    "# Uma coleção de elementos distintos \n",
    "\n",
    "# Para definir\n",
    "primes_below_10 = {2, 3, 5, 7}\n",
    "\n",
    "# Para definir um set vazio\n",
    "s = set()\n",
    "\n",
    "# Para adicionar\n",
    "s.add(1)\n",
    "s.add(2)  # s agora é {1, 2}\n",
    "\n",
    "# Vantagens:\n",
    "# A operação in é muito rápida em conjuntos. Para testar associação em uma colecao de itens é melhor usar cojunto do que listas\n",
    "stop_words = ['a', 'an', 'at'] + multas_outras_palavras + ['yet', 'you']\n",
    "'zip' in stop_words # Falso, mas verifica todos os elementos \n",
    "\n",
    "stopwords_set = set(stop_words)\n",
    "'zip' in storwords_set # Verificacao bem mais rapida\n",
    "\n",
    "# Itens distintos em uma colecao \n",
    "item_list = [1, 2, 3, 1, 2, 3]  # len = 6\n",
    "\n",
    "item_set = set(item_list) # len = 3"
   ]
  },
  {
   "cell_type": "markdown",
   "metadata": {},
   "source": [
    "### List Comprehension"
   ]
  },
  {
   "cell_type": "code",
   "execution_count": null,
   "metadata": {},
   "outputs": [],
   "source": [
    "# Forma Pythonic de transformar uma lista em outra\n",
    "n_up_to_five = [x for x in range(5)]\n",
    "even_numbers = [ x for x in range(5) if x % 2 == 0] # [0, 2, 4]\n",
    "squares = [x * x for x in range(5) ] # [0, 1, 4, 9, 16]\n",
    "even_squares = [x * x for x in even_numbers]\n",
    "\n",
    "# Tambem é possivel tranformar listas em dicionarios ou sets\n",
    "square_dict = [x : x * x for x in range(5)]\n",
    "\n",
    "# Quando nao precisamos do valor da lista, usa-se _ \n",
    "zeros = [0 for _ in range(5)]\n",
    "\n",
    "# Podem se usar multiplos for dentro da list comprehension\n",
    "pairs = [ (x, y) \n",
    "            for x in range (10)\n",
    "            for y in range (10)]\n",
    "\n",
    "# Pode usar os valores dos fors anteriosres nos posteriores (como 2 for alinhados)\n",
    "increasing_pairs = [ (x, y) \n",
    "            for x in range (10)\n",
    "            for y in range (x+1, 10)]"
   ]
  },
  {
   "cell_type": "markdown",
   "metadata": {},
   "source": [
    "### Iteraveis e Geradores"
   ]
  },
  {
   "cell_type": "code",
   "execution_count": null,
   "metadata": {},
   "outputs": [],
   "source": [
    "# São iterados como a lista mas apenas os valores solicitados\n",
    "def generate_range(n):\n",
    "    i = 0\n",
    "    while i < n :\n",
    "        yield n # É uma especie de return que vc guarda o valor. Quando resgata a funcao, ele usa uma lista de retornos\n",
    "        i += 1\n",
    "\n",
    "# Para usar:\n",
    "for i in generate_range(10):\n",
    "    print(f'i: {i}')\n",
    "\n",
    "\n",
    "# Esses geradores podem ser usados em list comprehensions \n",
    "evens_below_20 = (i for i in generate_range(20) if i % 2 == 0)\n",
    "\n",
    "# Temos o enumerate que é um iteravel em pares de (index, value)\n",
    "names = ['Bruno', 'Naiane', 'Bedego']\n",
    "# Nao é pythonic\n",
    "for i in range(len(names)):\n",
    "    print(f'name {i} is {names[i]}')\n",
    "# Tambem nao é Pythonic \n",
    "i = 0 \n",
    "for name in names:\n",
    "    print(f'name {i} is {names[i]}')\n",
    "# Forma PYTHONIC é com enumerate \n",
    "for i, name in enumerate(names):\n",
    "    print(f'name {i} is {name}')"
   ]
  },
  {
   "cell_type": "markdown",
   "metadata": {},
   "source": [
    "### Random"
   ]
  },
  {
   "cell_type": "code",
   "execution_count": null,
   "metadata": {},
   "outputs": [
    {
     "data": {
      "text/plain": [
       "[0.6394267984578837,\n",
       " 0.025010755222666936,\n",
       " 0.27502931836911926,\n",
       " 0.22321073814882275]"
      ]
     },
     "execution_count": 14,
     "metadata": {},
     "output_type": "execute_result"
    }
   ],
   "source": [
    "import random\n",
    "random.seed(42) # Assim sempre gera o mesmo numero \n",
    "\n",
    "four_unifom_randoms = [random.random()  for _ in range(4)]\n",
    "four_unifom_randoms # Produz numeros uniformemente entre 0 e 1 "
   ]
  },
  {
   "cell_type": "code",
   "execution_count": null,
   "metadata": {},
   "outputs": [],
   "source": [
    "random.randrange(10) # Numero aleatorio no range(10)\n",
    "\n",
    "random.randrange(1, 5) # Numero aleatorio no range (1, 5)\n",
    "\n",
    "random.shuffle(lista) # Reordena aleatoriomente os elementos de uma lista\n",
    "\n",
    "best_friend = random.choice(names) # Escolhe um valor aleatorio de uma lista\n",
    "\n",
    "lottery_numbers = range(60)\n",
    "winning_numbers = random.sample(lottery_numbers, 6) # Escolhe uma amostra aleatoria de elementos"
   ]
  },
  {
   "cell_type": "markdown",
   "metadata": {},
   "source": [
    "### Expressoes Regulares"
   ]
  },
  {
   "cell_type": "code",
   "execution_count": 21,
   "metadata": {},
   "outputs": [],
   "source": [
    "# Será visto com mais detalhes outro momento"
   ]
  },
  {
   "cell_type": "markdown",
   "metadata": {},
   "source": [
    "### Zip e Descompactação"
   ]
  },
  {
   "cell_type": "code",
   "execution_count": null,
   "metadata": {},
   "outputs": [
    {
     "data": {
      "text/plain": [
       "[('a', 1), ('b', 2), ('c', 3)]"
      ]
     },
     "execution_count": 23,
     "metadata": {},
     "output_type": "execute_result"
    }
   ],
   "source": [
    "# Zipar é tranformar varios iteraveis em um só iteravel de tuplas da funcao correspondente\n",
    "list1 = ['a', 'b', 'c']\n",
    "list2 = [1, 2, 3]\n",
    "\n",
    "# Compactar (zipar) duas listas \n",
    "# Se as listas tiverem tamanhos distintos, o zip para no fim da primeira\n",
    "[pair for pair in zip(list1, list2)]"
   ]
  },
  {
   "cell_type": "code",
   "execution_count": null,
   "metadata": {},
   "outputs": [],
   "source": []
  }
 ],
 "metadata": {
  "kernelspec": {
   "display_name": "my_env",
   "language": "python",
   "name": "python3"
  },
  "language_info": {
   "codemirror_mode": {
    "name": "ipython",
    "version": 3
   },
   "file_extension": ".py",
   "mimetype": "text/x-python",
   "name": "python",
   "nbconvert_exporter": "python",
   "pygments_lexer": "ipython3",
   "version": "3.11.9"
  }
 },
 "nbformat": 4,
 "nbformat_minor": 2
}
